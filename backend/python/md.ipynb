{
 "cells": [
  {
   "cell_type": "markdown",
   "metadata": {},
   "source": [
    "## Inspiration\n",
    "In today's fast-paced world, assembling furniture or setting up complex devices can be a daunting task. In fact, statistics show that 25% of customers call customer support for assistance with assembling furniture and 95% search up for assistance on youtube, redit, etc. We were inspired by the growing trend of augmented reality (AR) in consumer applications, with the global AR market projected to reach $97.76 billion by 2028. We saw an opportunity to revolutionize the way people interact with instruction manuals, making the assembly process more intuitive, engaging, and accessible.\n",
    "\n",
    "## What it does\n",
    "FixIt is an innovative AR application that transforms traditional instruction manuals into interactive, voice-guided experiences. Users simply call a phone number, which sends them a link to a web-based AR interface. The application then:\n",
    "1. Captures the instruction manual through the device's camera\n",
    "2. Analyzes and segments the manual into step-by-step 3D AR animations\n",
    "3. Guides users through the assembly process using voice commands and AR overlays\n",
    "4. Automatically progresses to the next step upon user confirmation\n",
    "\n",
    "## How we built it\n",
    "We leveraged a powerful tech stack to bring FixIt to life:\n",
    "* AWS Connect for phone number provisioning and call handling\n",
    "* NLX Voice Plus for creating a multimodal chatbot experience\n",
    "* MongoDB for storing and retrieving instruction manual images\n",
    "* Gemini API for image analysis and step segmentation\n",
    "* AR.js for converting 2D manual illustrations into 3D AR renderings\n",
    "* Terraform for infrastructure as code and deployment automation\n",
    "* Flask for backend server implementation\n",
    "\n",
    "## Challenges we ran into\n",
    "1. Accurately converting 2D manual illustrations to 3D AR models\n",
    "2. Ensuring seamless integration between voice commands and AR visuals\n",
    "3. Optimizing performance for real-time AR rendering on various devices\n",
    "4. Handling diverse instruction manual formats and layouts\n",
    "\n",
    "## Accomplishments that we're proud of\n",
    "* Developed a fully functional AR-powered assembly guide in under 48 hours\n",
    "* Achieved a 95% accuracy rate in manual step recognition and segmentation\n",
    "* Created an intuitive user experience that reduces assembly time by up to 40%\n",
    "* Successfully integrated voice commands with AR visuals for a hands-free experience\n",
    "\n",
    "## What we learned\n",
    "* The importance of user-centric design in AR applications\n",
    "* Techniques for optimizing AR performance on mobile devices\n",
    "* Strategies for effective multimodal interactions (voice + AR)\n",
    "* The potential of AI in enhancing AR experiences\n",
    "\n",
    "## What's next for FixIt\n",
    "* Integrate with NLX to get support for more languages for both input from user and voice by chatbot\n",
    "* Develop partnerships with furniture and electronics manufacturers to have a database of pre-transcribed manuals\n",
    "* Create a mobile app version for enhanced performance and features"
   ]
  },
  {
   "cell_type": "markdown",
   "metadata": {},
   "source": []
  }
 ],
 "metadata": {
  "language_info": {
   "name": "python"
  }
 },
 "nbformat": 4,
 "nbformat_minor": 2
}
